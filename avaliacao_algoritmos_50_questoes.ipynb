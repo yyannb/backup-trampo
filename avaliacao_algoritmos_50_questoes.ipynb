{
 "cells": [
  {
   "cell_type": "markdown",
   "id": "24daf9a1",
   "metadata": {},
   "source": [
    "\n",
    "# 📘 Avaliação de Algoritmos — 50 Questões (com dicas)\n",
    "**Como usar:**  \n",
    "- Resolva **uma questão por vez**.  \n",
    "- Leia a **Tarefa** e as **Dicas** na célula de código.  \n",
    "- Escreva sua solução abaixo do comentário: `# Escreva seu código abaixo:`  \n",
    "- Use **Python puro** (sem bibliotecas externas).\n"
   ]
  },
  {
   "cell_type": "markdown",
   "id": "c2ce0434",
   "metadata": {},
   "source": [
    "---\n",
    "## Organização das questões\n",
    "- 10 Entrada/Saída\n",
    "- 10 Condicionais\n",
    "- 10 Laços\n",
    "- 10 Listas/Strings/Dicionários\n",
    "- 10 Funções/Integração"
   ]
  },
  {
   "cell_type": "markdown",
   "id": "9d5041d1",
   "metadata": {},
   "source": [
    "## Questão 1\n",
    "Peça ao usuário seu nome e exiba uma mensagem de boas-vindas."
   ]
  },
  {
   "cell_type": "code",
   "execution_count": null,
   "id": "aa789e4b",
   "metadata": {},
   "outputs": [],
   "source": [
    "# Tarefa: Peça ao usuário seu nome e exiba uma mensagem de boas-vindas.\n",
    "# Dica 1: use input() para ler; armazene em uma variável; use print() ou f-string para mostrar.\n",
    "# Escreva seu código abaixo:\n",
    "\n",
    "nome = input(\"Insira seu nome: \").strip().title()\n",
    "print(f\"Bem-vindo {nome}!\")"
   ]
  },
  {
   "cell_type": "markdown",
   "id": "1ccb060e",
   "metadata": {},
   "source": [
    "## Questão 2\n",
    "Peça ao usuário seu nome e idade e exiba: 'Nome: X, Idade: Y'."
   ]
  },
  {
   "cell_type": "code",
   "execution_count": null,
   "id": "85afef91",
   "metadata": {},
   "outputs": [],
   "source": [
    "# Tarefa: Peça ao usuário seu nome e idade e exiba: 'Nome: X, Idade: Y'.\n",
    "# Dica 1: leia duas entradas com input()\n",
    "# Dica 2: converta idade para int()\n",
    "# Dica 3: formate com f-string.\n",
    "# Escreva seu código abaixo:\n",
    "\n",
    "\n",
    "nome = input(\"Insira seu nome: \").title()\n",
    "idade = int(input(\"Insira sua idade: \"))\n",
    "print(f\"Nome = {nome}, Idade = {idade}\")\n"
   ]
  },
  {
   "cell_type": "markdown",
   "id": "4079e82b",
   "metadata": {},
   "source": [
    "## Questão 3\n",
    "Solicite o nome do curso e mostre: 'Você está matriculado no curso X'."
   ]
  },
  {
   "cell_type": "code",
   "execution_count": null,
   "id": "8beee7d7",
   "metadata": {},
   "outputs": [],
   "source": [
    "# Tarefa: Solicite o nome do curso e mostre: 'Você está matriculado no curso X'.\n",
    "# Dica 1: guarde a string lida\n",
    "# Dica 2: use print() com concatenação ou f-string.\n",
    "# Escreva seu código abaixo:\n",
    "\n",
    "\n",
    "curso = input(\"Insira seu curso: \").title()\n",
    "print(f\"Você está matriculado no curso {curso}\")"
   ]
  },
  {
   "cell_type": "markdown",
   "id": "c17fd9fb",
   "metadata": {},
   "source": [
    "## Questão 4\n",
    "Leia dois números e exiba a soma."
   ]
  },
  {
   "cell_type": "code",
   "execution_count": null,
   "id": "2bfe2ac1",
   "metadata": {},
   "outputs": [],
   "source": [
    "# Tarefa: Leia dois números e exiba a soma.\n",
    "# Dica 1: use float() ou int() para converter\n",
    "# Dica 2: some e imprima o resultado.\n",
    "# Escreva seu código abaixo:\n",
    "\n",
    "num1, num2 = float(input(\"Insira um número: \")), float(input(\"Insira um número: \"))\n",
    "soma = num1 + num2\n",
    "print(soma)"
   ]
  },
  {
   "cell_type": "markdown",
   "id": "9252c5f4",
   "metadata": {},
   "source": [
    "## Questão 5\n",
    "Leia dois números e exiba a subtração (primeiro - segundo)."
   ]
  },
  {
   "cell_type": "code",
   "execution_count": null,
   "id": "c227b057",
   "metadata": {},
   "outputs": [],
   "source": [
    "# Tarefa: Leia dois números e exiba a subtração (primeiro - segundo).\n",
    "# Dica 1: converta entrada para número\n",
    "# Dica 2: subtraia e exiba.\n",
    "# Escreva seu código abaixo:\n",
    "num1, num2 = float(input(\"Insira um número: \")), float(input(\"Insira um número: \"))\n",
    "sub = num1 - num2\n",
    "print(sub)"
   ]
  },
  {
   "cell_type": "markdown",
   "id": "4db614fe",
   "metadata": {},
   "source": [
    "## Questão 6\n",
    "Leia dois números e exiba a multiplicação."
   ]
  },
  {
   "cell_type": "code",
   "execution_count": 120,
   "id": "b7101765",
   "metadata": {},
   "outputs": [
    {
     "name": "stdout",
     "output_type": "stream",
     "text": [
      "36.0\n"
     ]
    }
   ],
   "source": [
    "# Tarefa: Leia dois números e exiba a multiplicação.\n",
    "# Dica 1: use * para multiplicar\n",
    "# Dica 2: formate a saída com f-string.\n",
    "# Escreva seu código abaixo:\n",
    "\n",
    "num1, num2 = float(input(\"Insira um número: \")), float(input(\"Insira um número: \"))\n",
    "mult = num1 * num2\n",
    "print(mult)"
   ]
  },
  {
   "cell_type": "markdown",
   "id": "60ac69cf",
   "metadata": {},
   "source": [
    "## Questão 7\n",
    "Leia dois números e exiba a divisão (tratando divisão por zero)."
   ]
  },
  {
   "cell_type": "code",
   "execution_count": null,
   "id": "0cc0e8a9",
   "metadata": {},
   "outputs": [],
   "source": [
    "# Tarefa: Leia dois números e exiba a divisão (tratando divisão por zero).\n",
    "# Dica 1: antes de dividir, verifique se o divisor é 0\n",
    "# Dica 2: use if/else.\n",
    "# Escreva seu código abaixo:\n",
    "num1, num2 = int(input(\"Insira um número: \")), int(input(\"Insira um número: \"))\n",
    "if num2 == 0:\n",
    "    print(\"Não da pra dividir nenhum valor por zero\")\n",
    "else:\n",
    "    div = num1 / num2\n",
    "    print(div)"
   ]
  },
  {
   "cell_type": "markdown",
   "id": "60f7920a",
   "metadata": {},
   "source": [
    "## Questão 8\n",
    "Peça um número e mostre seu dobro."
   ]
  },
  {
   "cell_type": "code",
   "execution_count": null,
   "id": "416e0b37",
   "metadata": {},
   "outputs": [],
   "source": [
    "# Tarefa: Peça um número e mostre seu dobro.\n",
    "# Dica 1: converta para int() ou float()\n",
    "# Dica 2: resultado = numero * 2.\n",
    "# Escreva seu código abaixo:\n",
    "\n",
    "num1 = int(input(\"Insira um número: \"))\n",
    "result = num1 * 2\n",
    "print(result)"
   ]
  },
  {
   "cell_type": "markdown",
   "id": "ce50ed66",
   "metadata": {},
   "source": [
    "## Questão 9\n",
    "Peça um número e mostre o quadrado."
   ]
  },
  {
   "cell_type": "code",
   "execution_count": null,
   "id": "c1c0f02c",
   "metadata": {},
   "outputs": [],
   "source": [
    "# Tarefa: Peça um número e mostre o quadrado.\n",
    "# Dica 1: use operador ** 2\n",
    "# Dica 2: imprima o resultado.\n",
    "# Escreva seu código abaixo:\n",
    "\n",
    "num1 = int(input(\"Insira um número: \"))\n",
    "result = num1 ** 2\n",
    "print(result)"
   ]
  },
  {
   "cell_type": "markdown",
   "id": "49b9dfb1",
   "metadata": {},
   "source": [
    "## Questão 10\n",
    "Peça um número e mostre o resto da divisão por 3."
   ]
  },
  {
   "cell_type": "code",
   "execution_count": null,
   "id": "20de2925",
   "metadata": {},
   "outputs": [],
   "source": [
    "# Tarefa: Peça um número e mostre o resto da divisão por 3.\n",
    "# Dica 1: use operador %\n",
    "# Dica 2: ex.: resto = n % 3.\n",
    "# Escreva seu código abaixo:\n",
    "\n",
    "num1 = int(input(\"Insira um número: \"))\n",
    "result = num1 % 3\n",
    "print(result)"
   ]
  },
  {
   "cell_type": "markdown",
   "id": "b52ef79a",
   "metadata": {},
   "source": [
    "## Questão 11\n",
    "Peça uma idade e informe se é maior ou menor de idade (>=18)."
   ]
  },
  {
   "cell_type": "code",
   "execution_count": null,
   "id": "df3677f5",
   "metadata": {},
   "outputs": [],
   "source": [
    "# Tarefa: Peça uma idade e informe se é maior ou menor de idade (>=18).\n",
    "# Dica 1: use if idade >= 18\n",
    "# Dica 2: caso contrário, menor de idade.\n",
    "# Escreva seu código abaixo:\n",
    "\n",
    "idade = int(input(\"Insira sua idade: \"))\n",
    "if idade >= 18:\n",
    "    print(\"Você é de maior.\")\n",
    "else:\n",
    "    print(\"Você é de menor.\")\n",
    "\n"
   ]
  },
  {
   "cell_type": "markdown",
   "id": "2525a38e",
   "metadata": {},
   "source": [
    "## Questão 12\n",
    "Leia um número e informe se ele é positivo, negativo ou zero."
   ]
  },
  {
   "cell_type": "code",
   "execution_count": null,
   "id": "40c018cd",
   "metadata": {},
   "outputs": [],
   "source": [
    "# Tarefa: Leia um número e informe se ele é positivo, negativo ou zero.\n",
    "# Dica 1: if/elif/else com comparações > 0, < 0, == 0.\n",
    "# Escreva seu código abaixo:\n",
    "\n",
    "num1 = int(input(\"Insira um número: \"))\n",
    "if num1 > 0:\n",
    "    print(\"O número é positivo\")\n",
    "elif num1 < 0:\n",
    "    print(\"O número é negativo\")\n",
    "else:\n",
    "    print(\"O número é zero\")"
   ]
  },
  {
   "cell_type": "markdown",
   "id": "4f3f06e4",
   "metadata": {},
   "source": [
    "## Questão 13\n",
    "Peça duas notas e informe se está aprovado (média >= 7)."
   ]
  },
  {
   "cell_type": "code",
   "execution_count": null,
   "id": "5c3a1d86",
   "metadata": {},
   "outputs": [],
   "source": [
    "# Tarefa: Peça duas notas e informe se está aprovado (média >= 7).\n",
    "# Dica 1: calcule média\n",
    "# Dica 2: use if média >= 7.\n",
    "# Escreva seu código abaixo:\n",
    "\n",
    "nota1, nota2 = float(input(\"Insira uma nota: \")), float(input(\"Insira uma nota: \"))\n",
    "media = (nota1 + nota2) /2\n",
    "print(media)\n"
   ]
  },
  {
   "cell_type": "markdown",
   "id": "dff587e4",
   "metadata": {},
   "source": [
    "## Questão 14\n",
    "Peça um número e informe se é par ou ímpar."
   ]
  },
  {
   "cell_type": "code",
   "execution_count": null,
   "id": "19ec2bca",
   "metadata": {},
   "outputs": [],
   "source": [
    "# Tarefa: Peça um número e informe se é par ou ímpar.\n",
    "# Dica 1: use n % 2 == 0 para par.\n",
    "# Escreva seu código abaixo:\n",
    "\n",
    "num1 = int(\"Insira um número: \")\n",
    "if num1 % 2 == 0:\n",
    "    print(\"É par.\")\n",
    "else:\n",
    "    (\"É impar\")"
   ]
  },
  {
   "cell_type": "markdown",
   "id": "1cad925d",
   "metadata": {},
   "source": [
    "## Questão 15\n",
    "Peça um ano e informe se é bissexto."
   ]
  },
  {
   "cell_type": "code",
   "execution_count": 118,
   "id": "4fe7db6a",
   "metadata": {},
   "outputs": [
    {
     "name": "stdout",
     "output_type": "stream",
     "text": [
      "O ano 2025 não é bissexto.\n"
     ]
    }
   ],
   "source": [
    "# Tarefa: Peça um ano e informe se é bissexto.\n",
    "# Dica 1: regra simples: ano % 4 == 0 e (ano % 100 != 0 ou ano % 400 == 0).\n",
    "# Escreva seu código abaixo:.\n",
    "\n",
    "ano = int(input(\"Insira um ano: \"))\n",
    "\n",
    "if ano % 4 == 0 and (ano % 100 != 0 or ano % 400 == 0):\n",
    "    print(f\"O ano {ano} é bissexto.\")\n",
    "else:\n",
    "    print(f\"O ano {ano} não é bissexto.\")"
   ]
  },
  {
   "cell_type": "markdown",
   "id": "5dc9ad73",
   "metadata": {},
   "source": [
    "## Questão 16\n",
    "Peça uma senha e valide se é igual a '1234'."
   ]
  },
  {
   "cell_type": "code",
   "execution_count": null,
   "id": "17dcfe38",
   "metadata": {},
   "outputs": [],
   "source": [
    "# Tarefa: Peça uma senha e valide se é igual a '1234'.\n",
    "# Dica 1: compare strings\n",
    "# Dica 2: use if senha == '1234'.\n",
    "# Escreva seu código abaixo:\n",
    "\n",
    "senhaverdade = \"1234\"\n",
    "senhateste = input(\"Insira uma senha: \")\n",
    "if senhateste == senhaverdade:\n",
    "    print(\"Seja bem-vindo ao sistema!\")\n",
    "else:\n",
    "    print(\"Senha errada!\")"
   ]
  },
  {
   "cell_type": "markdown",
   "id": "b125d946",
   "metadata": {},
   "source": [
    "## Questão 17\n",
    "Peça um nome e verifique se é 'Carlos' (ignorar maiúsculas/minúsculas)."
   ]
  },
  {
   "cell_type": "code",
   "execution_count": null,
   "id": "60974973",
   "metadata": {},
   "outputs": [],
   "source": [
    "# Tarefa: Peça um nome e verifique se é 'Carlos' (ignorar maiúsculas/minúsculas).\n",
    "# Dica 1: use .strip() e .lower() para normalizar.\n",
    "# Escreva seu código abaixo:\n",
    "\n",
    "nomeverd = \"Carlos\"\n",
    "nometest = input(\"Insira um nome: \")\n",
    "if nomeverd.lower() == nometest.strip().lower():\n",
    "    print(\"O nome está correto.\")\n",
    "else:\n",
    "    print(\"Está errado.\")\n"
   ]
  },
  {
   "cell_type": "markdown",
   "id": "9e1e6d12",
   "metadata": {},
   "source": [
    "## Questão 18\n",
    "Leia três números e informe o maior."
   ]
  },
  {
   "cell_type": "code",
   "execution_count": null,
   "id": "b2c3525c",
   "metadata": {},
   "outputs": [],
   "source": [
    "# Tarefa: Leia três números e informe o maior.\n",
    "# Dica 1: use comparações ou acompanhe um 'maior' em variáveis.\n",
    "# Escreva seu código abaixo:\n",
    "\n",
    "\n",
    "num1, num2, num3 = float(input(\"Digite o primeiro número: \")), float(input(\"Digite o segundo número: \")), float(input(\"Digite o terceiro número: \"))\n",
    "\n",
    "maior_numero = num1\n",
    "\n",
    "if num2 > maior_numero:\n",
    "    maior_numero = num2\n",
    "\n",
    "if num3 > maior_numero:\n",
    "    maior_numero = num3\n",
    "\n",
    "print(f\"O maior número digitado é: {maior_numero}\")\n"
   ]
  },
  {
   "cell_type": "markdown",
   "id": "f77a15a8",
   "metadata": {},
   "source": [
    "## Questão 19\n",
    "Leia três números e informe o menor."
   ]
  },
  {
   "cell_type": "code",
   "execution_count": null,
   "id": "669c4e13",
   "metadata": {},
   "outputs": [],
   "source": [
    "# Tarefa: Leia três números e informe o menor.\n",
    "# Dica 1: similar ao maior, mas buscando o menor.\n",
    "# Escreva seu código abaixo:\n",
    "num1, num2, num3 = float(input(\"Digite o primeiro número: \")), float(input(\"Digite o segundo número: \")), float(input(\"Digite o terceiro número: \"))\n",
    "\n",
    "menor_numero = num1\n",
    "\n",
    "if num2 < menor_numero:\n",
    "    menor_numero = num2\n",
    "\n",
    "if num3 < menor_numero:\n",
    "    menor_numero = num3\n",
    "\n",
    "print(f\"O menor número digitado é: {menor_numero}\")\n"
   ]
  },
  {
   "cell_type": "markdown",
   "id": "158caa2d",
   "metadata": {},
   "source": [
    "## Questão 20\n",
    "Leia a idade e informe: Infantil (<12), Juvenil (12–17) ou Adulto (>=18)."
   ]
  },
  {
   "cell_type": "code",
   "execution_count": null,
   "id": "715ba20d",
   "metadata": {},
   "outputs": [],
   "source": [
    "# Tarefa: Leia a idade e informe: Infantil (<12), Juvenil (12–17) ou Adulto (>=18).\n",
    "# Dica 1: use if/elif/else com intervalos.\n",
    "# Escreva seu código abaixo:\n",
    "\n",
    "idade = int(input(\"Insira a idade: \"))\n",
    "if idade <= 12:\n",
    "    print(\"Você é Infantil.\")\n",
    "elif idade >= 18:\n",
    "    print(\"Você é Adulto.\")\n",
    "else:\n",
    "    print(\"Você é Juvenil.\")\n"
   ]
  },
  {
   "cell_type": "markdown",
   "id": "055b1e2d",
   "metadata": {},
   "source": [
    "## Questão 21\n",
    "Exiba os números de 1 a 10 usando for."
   ]
  },
  {
   "cell_type": "code",
   "execution_count": null,
   "id": "de294eed",
   "metadata": {},
   "outputs": [],
   "source": [
    "# Tarefa: Exiba os números de 1 a 10 usando for.\n",
    "# Dica 1: use range(1, 11)\n",
    "# Dica 2: imprima um por linha.\n",
    "# Escreva seu código abaixo:\n",
    "\n",
    "for n in range(1,11):\n",
    "    print(n)"
   ]
  },
  {
   "cell_type": "markdown",
   "id": "dbed4c25",
   "metadata": {},
   "source": [
    "## Questão 22\n",
    "Exiba os números pares de 0 a 20 usando for."
   ]
  },
  {
   "cell_type": "code",
   "execution_count": null,
   "id": "f3a84535",
   "metadata": {},
   "outputs": [],
   "source": [
    "# Tarefa: Exiba os números pares de 0 a 20 usando for.\n",
    "# Dica 1: use range(0, 21, 2).\n",
    "# Escreva seu código abaixo:\n",
    "\n",
    "for n in range (0,21,2):\n",
    "    print(n)"
   ]
  },
  {
   "cell_type": "markdown",
   "id": "57cdc44e",
   "metadata": {},
   "source": [
    "## Questão 23\n",
    "Exiba os números ímpares de 0 a 20 usando while."
   ]
  },
  {
   "cell_type": "code",
   "execution_count": null,
   "id": "c2a3f9ef",
   "metadata": {},
   "outputs": [],
   "source": [
    "# Tarefa: Exiba os números ímpares de 0 a 20 usando while.\n",
    "# Dica 1: inicie em 1\n",
    "# Dica 2: while <= 20; some 2 a cada passo.\n",
    "# Escreva seu código abaixo:\n",
    "\n",
    "\n",
    "num1 = 1\n",
    "while num1 <= 20:\n",
    "    print(num1)\n",
    "    \n",
    "    num1 += 2\n"
   ]
  },
  {
   "cell_type": "markdown",
   "id": "87bbadde",
   "metadata": {},
   "source": [
    "## Questão 24\n",
    "Peça um número e exiba a tabuada (1 a 10)."
   ]
  },
  {
   "cell_type": "code",
   "execution_count": null,
   "id": "88a5838d",
   "metadata": {},
   "outputs": [],
   "source": [
    "# Tarefa: Peça um número e exiba a tabuada (1 a 10).\n",
    "# Dica 1: laço for i in range(1, 11)\n",
    "# Dica 2: imprima n * i.\n",
    "# Escreva seu código abaixo:\n",
    "\n",
    "x = int(input(\"Insira um valor a ser multiplicado: \"))\n",
    "for i in range(1, 11):\n",
    "    print(f\"{x} X {i} = {x * i}\")"
   ]
  },
  {
   "cell_type": "markdown",
   "id": "a0c27954",
   "metadata": {},
   "source": [
    "## Questão 25\n",
    "Leia 5 números e calcule a soma."
   ]
  },
  {
   "cell_type": "code",
   "execution_count": null,
   "id": "d338a1e4",
   "metadata": {},
   "outputs": [],
   "source": [
    "# Tarefa: Leia 5 números e calcule a soma.\n",
    "# Dica 1: use laço e uma variável acumuladora soma.\n",
    "# Escreva seu código abaixo:\n",
    "soma = 0\n",
    "\n",
    "for i in range(5):\n",
    "    numero = float(input(f\"Insira o {i+1}º número: \"))\n",
    "    soma += numero\n",
    "\n",
    "print(f\"A soma dos números é: {soma}\")"
   ]
  },
  {
   "cell_type": "markdown",
   "id": "ccf157ce",
   "metadata": {},
   "source": [
    "## Questão 26\n",
    "Leia 5 números e calcule a média."
   ]
  },
  {
   "cell_type": "code",
   "execution_count": null,
   "id": "7af1f68f",
   "metadata": {},
   "outputs": [],
   "source": [
    "# Tarefa: Leia 5 números e calcule a média.\n",
    "# Dica 1: some tudo e divida por 5 no final.\n",
    "# Escreva seu código abaixo:\n",
    "soma = 0\n",
    "\n",
    "for i in range(5):\n",
    "    numero = float(input(f\"Insira o {i+1}º número: \"))\n",
    "    soma += numero\n",
    "    media = (soma / 5)\n",
    "\n",
    "print(f\"A média dos números é: {media}\")"
   ]
  },
  {
   "cell_type": "markdown",
   "id": "2cb2b0b6",
   "metadata": {},
   "source": [
    "## Questão 27\n",
    "Peça um número e calcule seu fatorial."
   ]
  },
  {
   "cell_type": "code",
   "execution_count": null,
   "id": "00cdea75",
   "metadata": {},
   "outputs": [],
   "source": [
    "# Tarefa: Peça um número e calcule seu fatorial.\n",
    "# Dica 1: inicie f=1\n",
    "# Dica 2: multiplique de 2 até n.\n",
    "# Escreva seu código abaixo:\n",
    "n = int(input(\"Insira um número: \"))\n",
    "r = 1\n",
    "for i in range(1,n+1):\n",
    "    r *= i\n",
    "print(r)"
   ]
  },
  {
   "cell_type": "markdown",
   "id": "3e8d8c10",
   "metadata": {},
   "source": [
    "## Questão 28\n",
    "Peça 5 nomes e exiba todos."
   ]
  },
  {
   "cell_type": "code",
   "execution_count": null,
   "id": "97c057a1",
   "metadata": {},
   "outputs": [],
   "source": [
    "# Tarefa: Peça 5 nomes e exiba todos.\n",
    "# Dica 1: guarde em lista; depois percorra e imprima.\n",
    "# Escreva seu código abaixo:\n",
    "lst = []\n",
    "\n",
    "for i in range(5):\n",
    "    nome = input(f\"Insira o {i+1}º nome: \").title()\n",
    "    lst.append(nome)\n",
    "\n",
    "print(\"Os nomes digitados foram:\")\n",
    "for n in lst:\n",
    "    print(n)"
   ]
  },
  {
   "cell_type": "markdown",
   "id": "2f55d4dc",
   "metadata": {},
   "source": [
    "## Questão 29\n",
    "Peça 5 idades e mostre a maior."
   ]
  },
  {
   "cell_type": "code",
   "execution_count": null,
   "id": "b3112d7b",
   "metadata": {},
   "outputs": [],
   "source": [
    "# Tarefa: Peça 5 idades e mostre a maior.\n",
    "# Dica 1: use variável 'maior' atualizada no laço.\n",
    "# Escreva seu código abaixo:\n",
    "\n",
    "maior_idade = 0\n",
    "\n",
    "for i in range(5):\n",
    "    idade = int(input(f\"Digite a {i+1}ª idade: \"))\n",
    "    \n",
    "\n",
    "    if idade > maior_idade:\n",
    "        maior_idade = idade \n",
    "\n",
    "print(f\"A maior idade digitada é: {maior_idade}\")"
   ]
  },
  {
   "cell_type": "markdown",
   "id": "2baa4b99",
   "metadata": {},
   "source": [
    "## Questão 30\n",
    "Peça números até digitar 0 e calcule a soma."
   ]
  },
  {
   "cell_type": "code",
   "execution_count": null,
   "id": "8d808e3f",
   "metadata": {},
   "outputs": [],
   "source": [
    "# Tarefa: Peça números até digitar 0 e calcule a soma.\n",
    "# Dica 1: use while True\n",
    "# Dica 2: se n==0: break\n",
    "# Dica 3: acumule soma.\n",
    "# Escreva seu código abaixo:\n",
    "\n",
    "soma = []\n",
    "while True:\n",
    "    n = int(input(\"Insira números: \"))\n",
    "    soma.append(n)\n",
    "    if n == 0:\n",
    "        break\n",
    "print(sum(soma))    "
   ]
  },
  {
   "cell_type": "markdown",
   "id": "97e900af",
   "metadata": {},
   "source": [
    "## Questão 31\n",
    "Crie uma lista com 5 cursos do SENAI e exiba todos."
   ]
  },
  {
   "cell_type": "code",
   "execution_count": null,
   "id": "b9c7ba08",
   "metadata": {},
   "outputs": [],
   "source": [
    "# Tarefa: Crie uma lista com 5 cursos do SENAI e exiba todos.\n",
    "# Dica 1: crie lista literal ['A','B',...]\n",
    "# Dica 2: percorra com for e imprima.\n",
    "# Escreva seu código abaixo:\n",
    "lst = [\"A\", \"B\", \"C\", \"D\", \"E\"]\n",
    "print(*lst, sep='\\n')\n",
    "\n",
    "for i in lst:\n",
    "    print(i)\n"
   ]
  },
  {
   "cell_type": "markdown",
   "id": "7796cca1",
   "metadata": {},
   "source": [
    "## Questão 32\n",
    "Adicione um novo curso à lista e exiba."
   ]
  },
  {
   "cell_type": "code",
   "execution_count": null,
   "id": "7e5903c8",
   "metadata": {},
   "outputs": [],
   "source": [
    "# Tarefa: Adicione um novo curso à lista e exiba.\n",
    "# Dica 1: lista.append('curso')\n",
    "# Dica 2: imprima a lista.\n",
    "# Escreva seu código abaixo:\n",
    "lst.append(\"F\")\n",
    "print(lst)"
   ]
  },
  {
   "cell_type": "markdown",
   "id": "e48a97a2",
   "metadata": {},
   "source": [
    "## Questão 33\n",
    "Peça 3 nomes e armazene em lista."
   ]
  },
  {
   "cell_type": "code",
   "execution_count": null,
   "id": "f0e89796",
   "metadata": {},
   "outputs": [],
   "source": [
    "# Tarefa: Peça 3 nomes e armazene em lista.\n",
    "# Dica 1: use input() 3 vezes e append().\n",
    "# Escreva seu código abaixo:\n",
    "\n",
    "lst = []\n",
    "n1, n2, n3 = input(\"Insira o primeiro nome: \"), input(\"Insira o segundo nome: \"), input(\"Insira o terceiro nome: \")\n",
    "lst.append(n1), lst.append(n2), lst.append(n3)\n",
    "for i in lst:\n",
    "    print(i) \n"
   ]
  },
  {
   "cell_type": "markdown",
   "id": "2bca7089",
   "metadata": {},
   "source": [
    "## Questão 34\n",
    "Peça 3 idades e exiba a média."
   ]
  },
  {
   "cell_type": "code",
   "execution_count": null,
   "id": "2a109733",
   "metadata": {},
   "outputs": [],
   "source": [
    "# Tarefa: Peça 3 idades e exiba a média.\n",
    "# Dica 1: converta para int()\n",
    "# Dica 2: some e / 3.\n",
    "# Escreva seu código abaixo:\n",
    "\n",
    "\n",
    "print(f\"Média: {sum([int(input(f'Idade {i+1}: ')) for i in range(3)])/3:.1f}\")"
   ]
  },
  {
   "cell_type": "markdown",
   "id": "76bc808e",
   "metadata": {},
   "source": [
    "## Questão 35\n",
    "Crie um dicionário com nome, idade e curso."
   ]
  },
  {
   "cell_type": "code",
   "execution_count": null,
   "id": "fd4ae223",
   "metadata": {},
   "outputs": [],
   "source": [
    "# Tarefa: Crie um dicionário com nome, idade e curso.\n",
    "# Dica 1: ex.: aluno={'nome':..., 'idade':..., 'curso':...}\n",
    "# Dica 2: imprima o dict.\n",
    "# Escreva seu código abaixo:\n",
    "\n",
    "print({'nome': 'Yann Bastos', 'idade': 17, 'curso': 'AI AIAD 2025/1 INT1'})\n"
   ]
  },
  {
   "cell_type": "markdown",
   "id": "2f00038f",
   "metadata": {},
   "source": [
    "## Questão 36\n",
    "Adicione uma chave 'nota' ao dicionário e exiba."
   ]
  },
  {
   "cell_type": "code",
   "execution_count": null,
   "id": "b136fc67",
   "metadata": {},
   "outputs": [],
   "source": [
    "# Tarefa: Adicione uma chave 'nota' ao dicionário e exiba.\n",
    "# Dica 1: aluno['nota']=valor\n",
    "# Dica 2: imprima novamente.\n",
    "# Escreva seu código abaixo:\n",
    "\n",
    "aluno = {'nome': 'Yann', 'idade': 17}; aluno.update({'nota': 9.5}); print(aluno)"
   ]
  },
  {
   "cell_type": "markdown",
   "id": "413e9113",
   "metadata": {},
   "source": [
    "## Questão 37\n",
    "Peça uma frase e conte quantas palavras possui."
   ]
  },
  {
   "cell_type": "code",
   "execution_count": null,
   "id": "6f60222a",
   "metadata": {},
   "outputs": [],
   "source": [
    "# Tarefa: Peça uma frase e conte quantas palavras possui.\n",
    "# Dica 1: normalize espaços com .split()\n",
    "# Dica 2: len(lista_palavras).\n",
    "# Escreva seu código abaixo:\n",
    "frase = input(\"Insira uma frase: \").split()\n",
    "print(len(frase))"
   ]
  },
  {
   "cell_type": "markdown",
   "id": "1b05df35",
   "metadata": {},
   "source": [
    "## Questão 38\n",
    "Peça uma frase e conte quantas vogais possui."
   ]
  },
  {
   "cell_type": "code",
   "execution_count": null,
   "id": "28b5ab52",
   "metadata": {},
   "outputs": [],
   "source": [
    "# Tarefa: Peça uma frase e conte quantas vogais possui.\n",
    "# Dica 1: conte 'a e i o u' em maiúsc/minúsc\n",
    "# Dica 2: pode usar .lower().\n",
    "# Escreva seu código abaixo:\n",
    "\n",
    "frase = input(\"Insira uma frase: \").lower()\n",
    "cont = 0\n",
    "vogais = \"aeiou\"\n",
    "\n",
    "for letra in frase:\n",
    "    if letra in vogais:\n",
    "        cont += 1\n",
    "\n",
    "print(f\"A frase tem {cont} vogais.\")\n"
   ]
  },
  {
   "cell_type": "markdown",
   "id": "d5b188fa",
   "metadata": {},
   "source": [
    "## Questão 39\n",
    "Peça um nome e verifique se começa com 'A'."
   ]
  },
  {
   "cell_type": "code",
   "execution_count": null,
   "id": "fbfdb56a",
   "metadata": {},
   "outputs": [],
   "source": [
    "# Tarefa: Peça um nome e verifique se começa com 'A'.\n",
    "# Dica 1: use nome.upper().startswith('A')\n",
    "# Escreva seu código abaixo:\n",
    "\n",
    "nome = input(\"Digite um nome: \").title()\n",
    "\n",
    "if nome.upper().startswith('A'):\n",
    "    print(f\"O nome '{nome}' começa com a letra 'A'.\")\n",
    "else:\n",
    "    print(f\"O nome '{nome}' não começa com a letra 'A'.\")"
   ]
  },
  {
   "cell_type": "markdown",
   "id": "fa663345",
   "metadata": {},
   "source": [
    "## Questão 40\n",
    "Peça um nome e exiba em maiúsculas."
   ]
  },
  {
   "cell_type": "code",
   "execution_count": null,
   "id": "bdc3e8e5",
   "metadata": {},
   "outputs": [],
   "source": [
    "# Tarefa: Peça um nome e exiba em maiúsculas.\n",
    "# Dica 1: use .upper() para converter.\n",
    "# Escreva seu código abaixo:\n",
    "nome = input(\"Nome: \").upper()\n",
    "print(nome)\n"
   ]
  },
  {
   "cell_type": "markdown",
   "id": "4de24cd2",
   "metadata": {},
   "source": [
    "## Questão 41\n",
    "Crie uma função que receba um número e retorne o dobro."
   ]
  },
  {
   "cell_type": "code",
   "execution_count": null,
   "id": "662ee0c4",
   "metadata": {},
   "outputs": [],
   "source": [
    "# Tarefa: Crie uma função que receba um número e retorne o dobro.\n",
    "# Dica 1: def dobro(n): return n*2\n",
    "# Dica 2: teste com input().\n",
    "# Escreva seu código abaixo:\n",
    "\n",
    "def dobro(n1):\n",
    "    return n1*2\n",
    "\n",
    "print(dobro(int(input(\"Insira um número: \"))))"
   ]
  },
  {
   "cell_type": "markdown",
   "id": "c87071bd",
   "metadata": {},
   "source": [
    "## Questão 42\n",
    "Crie uma função que receba dois números e retorne a soma."
   ]
  },
  {
   "cell_type": "code",
   "execution_count": null,
   "id": "15f4751d",
   "metadata": {},
   "outputs": [],
   "source": [
    "# Tarefa: Crie uma função que receba dois números e retorne a soma.\n",
    "# Dica 1: def soma(a,b): return a+b\n",
    "# Dica 2: imprima o retorno.\n",
    "# Escreva seu código abaixo:\n",
    "\n",
    "def soma(a,b):\n",
    "    return a+b\n",
    "\n",
    "print(soma(a=int(input(\"Insira num\")),b=int(input(\"Insira num\"))))\n"
   ]
  },
  {
   "cell_type": "markdown",
   "id": "2a717b80",
   "metadata": {},
   "source": [
    "## Questão 43\n",
    "Crie uma função que receba uma lista de números e retorne a média."
   ]
  },
  {
   "cell_type": "code",
   "execution_count": null,
   "id": "d5b15e12",
   "metadata": {},
   "outputs": [],
   "source": [
    "# Tarefa: Crie uma função que receba uma lista de números e retorne a média.\n",
    "# Dica 1: percorra com for e some\n",
    "# Dica 2: divida pelo tamanho da lista.\n",
    "\n",
    "lst = [8, 5, 4, 2, 4, 1, 5, 46, 765, 234]\n",
    "\n",
    "def calc_media(lista):\n",
    "    soma = 0\n",
    "    for n in lista:\n",
    "        soma += n \n",
    "    media = soma / len(lista)\n",
    "    return media\n",
    "\n",
    "print(f\"A lista é: {lst} \\nA média dos números na lista é: {calc_media(lst)}\")"
   ]
  },
  {
   "cell_type": "markdown",
   "id": "938c8ffd",
   "metadata": {},
   "source": [
    "## Questão 44\n",
    "Crie uma função que receba um nome e retorne uma saudação."
   ]
  },
  {
   "cell_type": "code",
   "execution_count": null,
   "id": "7829498c",
   "metadata": {},
   "outputs": [],
   "source": [
    "# Tarefa: Crie uma função que receba um nome e retorne uma saudação.\n",
    "# Dica 1: retorne f'Olá, {{nome}}'\n",
    "# Dica 2: imprima o retorno.\n",
    "# Escreva seu código abaixo:\n",
    "def receba(nome):\n",
    "      return f\"Olá, {nome.title().strip()}! Bem-vindo(a).\"\n",
    "\n",
    "print(receba(input(\"Insira seu nome: \")))"
   ]
  },
  {
   "cell_type": "markdown",
   "id": "286ffd92",
   "metadata": {},
   "source": [
    "## Questão 45\n",
    "Crie uma função que receba uma lista de nomes e retorne o nome mais curto."
   ]
  },
  {
   "cell_type": "code",
   "execution_count": null,
   "id": "13f1b4b3",
   "metadata": {},
   "outputs": [],
   "source": [
    "# Tarefa: Crie uma função que receba uma lista de nomes e retorne o nome mais curto.\n",
    "# Dica 1: assuma ao menos 1 nome\n",
    "# Dica 2: compare por len(nome).\n",
    "# Escreva seu código abaixo:\n",
    "\n",
    "def nomecurt(lista):\n",
    "  nomecurto = lista[0]  \n",
    "  for nome in lista:\n",
    "    if len(nome) < len(nomecurto):\n",
    "      nomecurto = nome\n",
    "\n",
    "  return nomecurto\n",
    "\n",
    "nomes = [\"Yann\", \"Deyvid\", \"Jakson\", \"Leonardo\", \"Yuri\"]\n",
    "print(f\"O nome mais curto é: {nomecurt(nomes)}\")\n"
   ]
  },
  {
   "cell_type": "markdown",
   "id": "bee33d0c",
   "metadata": {},
   "source": [
    "## Questão 46\n",
    "Crie uma função que receba duas notas e retorne 'Aprovado' ou 'Reprovado'."
   ]
  },
  {
   "cell_type": "code",
   "execution_count": null,
   "id": "238ebed6",
   "metadata": {},
   "outputs": [],
   "source": [
    "# Tarefa: Crie uma função que receba duas notas e retorne 'Aprovado' ou 'Reprovado'.\n",
    "# Dica 1: média >= 7 → 'Aprovado'\n",
    "# Dica 2: senão 'Reprovado'.\n",
    "# Escreva seu código abaixo:\n",
    "\n",
    "def verf(nota1, nota2):\n",
    "    media = (nota1 + nota2) / 2\n",
    "    if media >= 7:\n",
    "        return \"Aprovado\"\n",
    "    else:\n",
    "        return \"Reprovado\"\n",
    "\n",
    "print(verf(nota1=float(input(\"Insira a nota: \")), nota2=float(input(\"Insira a nota: \"))))"
   ]
  },
  {
   "cell_type": "markdown",
   "id": "48337882",
   "metadata": {},
   "source": [
    "## Questão 47\n",
    "Crie uma função que receba um número e retorne True se for par, False se ímpar."
   ]
  },
  {
   "cell_type": "code",
   "execution_count": null,
   "id": "9c3bd573",
   "metadata": {},
   "outputs": [],
   "source": [
    "# Tarefa: Crie uma função que receba um número e retorne True se for par, False se ímpar.\n",
    "# Dica 1: use n % 2 == 0 para avaliar.\n",
    "# Escreva seu código abaixo:\n",
    "\n",
    "def veriig(n):\n",
    "    if n % 2 == 0:\n",
    "        return True\n",
    "    else: \n",
    "        return False\n",
    "    \n",
    "print(veriig(int(input(\"Insira o número: \"))))"
   ]
  },
  {
   "cell_type": "markdown",
   "id": "1824f7e1",
   "metadata": {},
   "source": [
    "## Questão 48\n",
    "Crie uma função que receba um dicionário de aluno e exiba todas as informações."
   ]
  },
  {
   "cell_type": "code",
   "execution_count": null,
   "id": "c131958e",
   "metadata": {},
   "outputs": [],
   "source": [
    "# Tarefa: Crie uma função que receba um dicionário de aluno e exiba todas as informações.\n",
    "# Dica 1: percorrer aluno.items()\n",
    "# Dica 2: imprimir 'chave: valor'.\n",
    "# Escreva seu código abaixo:\n",
    "\n",
    "def exibirinfoaluno(aluno):\n",
    "  print(\"--- Informações do Aluno ---\")\n",
    "  for chave, valor in aluno.items():\n",
    "    print(f\"{chave}: {valor}\")\n",
    "  print(\"--------------------------\")\n",
    "\n",
    "alunoincrivel = {\n",
    "  \"nome\": \"Yann Bastos\",\n",
    "  \"idade\": 17,\n",
    "  \"curso\": \"Análise de Dados\",\n",
    "  \"notas\": [8.5, 9.0, 7.8, 9.5]\n",
    "}\n",
    "\n",
    "exibirinfoaluno(alunoincrivel)"
   ]
  },
  {
   "cell_type": "markdown",
   "id": "c3d3c91a",
   "metadata": {},
   "source": [
    "## Questão 49\n",
    "Crie uma função que receba uma lista de números e retorne apenas os pares."
   ]
  },
  {
   "cell_type": "code",
   "execution_count": null,
   "id": "f8924276",
   "metadata": {},
   "outputs": [],
   "source": [
    "# Tarefa: Crie uma função que receba uma lista de números e retorne apenas os pares.\n",
    "# Dica 1: construa lista nova; teste n%2==0; append nos pares.\n",
    "# Escreva seu código abaixo:\n",
    "\n",
    "lst = [234, 5467, 567, 7563, 45, 235, 324, 565, 77, 658, 879, 7324, 51, 3423, 4, 531, 2, 34, 5, 6, 78, 0]\n",
    "\n",
    "def encopar(lista):\n",
    "  par = []\n",
    "  for n in lista:\n",
    "    if n % 2 == 0:\n",
    "      par.append(n)\n",
    "  return par\n",
    "\n",
    "print(f\"Os números pares da lista são: {encopar(lst)}\")"
   ]
  },
  {
   "cell_type": "markdown",
   "id": "19a67333",
   "metadata": {},
   "source": [
    "## Questão 50\n",
    "Crie um menu simples com 3 opções: ver média geral, ver alunos aprovados, sair."
   ]
  },
  {
   "cell_type": "code",
   "execution_count": null,
   "id": "14f0bfe5",
   "metadata": {},
   "outputs": [],
   "source": [
    "# Tarefa: Crie um menu simples com 3 opções: ver média geral, ver alunos aprovados, sair.\n",
    "# Dica 1: use while True + if/elif/else\n",
    "# Dica 2: opção '3' deve dar break.\n",
    "# Escreva seu código abaixo:\n",
    "\n",
    "def menu_principal():\n",
    "  while True:\n",
    "    print(\"\\n--- Menu Principal ---\")\n",
    "    print(\"1. Ver média geral\")\n",
    "    print(\"2. Ver alunos aprovados\")\n",
    "    print(\"3. Sair\")\n",
    "\n",
    "    opcao = input(\"Digite a opção desejada: \")\n",
    "\n",
    "    if opcao == '1':\n",
    "      print(\"Você escolheu 'Ver média geral'.\")\n",
    "   \n",
    "    elif opcao == '2':\n",
    "      print(\"Você escolheu 'Ver alunos aprovados'.\")\n",
    " \n",
    "    elif opcao == '3':\n",
    "      print(\"Saindo do programa. Até mais!\")\n",
    "      break\n",
    "    else:\n",
    "      print(\"Opção inválida. Por favor, escolha uma opção entre 1 e 3.\")\n",
    "\n",
    "menu_principal()"
   ]
  }
 ],
 "metadata": {
  "kernelspec": {
   "display_name": "Python 3",
   "language": "python",
   "name": "python3"
  },
  "language_info": {
   "codemirror_mode": {
    "name": "ipython",
    "version": 3
   },
   "file_extension": ".py",
   "mimetype": "text/x-python",
   "name": "python",
   "nbconvert_exporter": "python",
   "pygments_lexer": "ipython3",
   "version": "3.12.5"
  }
 },
 "nbformat": 4,
 "nbformat_minor": 5
}
